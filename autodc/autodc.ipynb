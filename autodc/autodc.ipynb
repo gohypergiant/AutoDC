{
 "cells": [
  {
   "cell_type": "code",
   "execution_count": 3,
   "id": "f4b73e5f",
   "metadata": {},
   "outputs": [
    {
     "name": "stderr",
     "output_type": "stream",
     "text": [
      "2021-12-30 07:13:28.960182: I tensorflow/core/platform/cpu_feature_guard.cc:142] This TensorFlow binary is optimized with oneAPI Deep Neural Network Library (oneDNN) to use the following CPU instructions in performance-critical operations:  AVX2 FMA\n",
      "To enable them in other operations, rebuild TensorFlow with the appropriate compiler flags.\n"
     ]
    }
   ],
   "source": [
    "import outlier_detection\n",
    "import edge_case_selection\n",
    "import data_augmentation"
   ]
  },
  {
   "cell_type": "markdown",
   "id": "dd833c38",
   "metadata": {},
   "source": [
    "# Input"
   ]
  },
  {
   "cell_type": "code",
   "execution_count": 4,
   "id": "c9a3eff2",
   "metadata": {},
   "outputs": [],
   "source": [
    "input_path = \"/Users/akashnair/Desktop/Akash/Project/Hypergiant/Data_Labeling/dogs-vs-cats/sample_data/\"\n",
    "output_path = \"/Users/akashnair/Desktop/Akash/Project/Hypergiant/Data_Labeling/dogs-vs-cats/\"\n",
    "outlier_data_percent = 10\n",
    "non_outlier_data_percent = 40\n",
    "augmentation_data_percent = 20\n",
    "augmentation_technique = \"noise\""
   ]
  },
  {
   "cell_type": "markdown",
   "id": "fdd83f39",
   "metadata": {},
   "source": [
    "# Outlier Detection"
   ]
  },
  {
   "cell_type": "code",
   "execution_count": 5,
   "id": "a4f4069c",
   "metadata": {},
   "outputs": [
    {
     "name": "stderr",
     "output_type": "stream",
     "text": [
      "2021-12-30 07:16:40.447921: I tensorflow/compiler/mlir/mlir_graph_optimization_pass.cc:185] None of the MLIR Optimization Passes are enabled (registered 2)\n"
     ]
    },
    {
     "name": "stdout",
     "output_type": "stream",
     "text": [
      "Cumulative explained variation for 50 principal components: 0.797649085521698\n",
      "(140, 50)\n",
      "[t-SNE] Computing 91 nearest neighbors...\n",
      "[t-SNE] Indexed 140 samples in 0.000s...\n",
      "[t-SNE] Computed neighbors for 140 samples in 0.003s...\n",
      "[t-SNE] Computed conditional probabilities for sample 140 / 140\n",
      "[t-SNE] Mean sigma: 11.248980\n",
      "[t-SNE] KL divergence after 250 iterations with early exaggeration: 63.763897\n",
      "[t-SNE] KL divergence after 1300 iterations: 0.693679\n",
      "Cumulative explained variation for 50 principal components: 0.8079437613487244\n",
      "(126, 50)\n",
      "[t-SNE] Computing 91 nearest neighbors...\n",
      "[t-SNE] Indexed 126 samples in 0.000s...\n",
      "[t-SNE] Computed neighbors for 126 samples in 0.003s...\n",
      "[t-SNE] Computed conditional probabilities for sample 126 / 126\n",
      "[t-SNE] Mean sigma: 6.633588\n",
      "[t-SNE] KL divergence after 250 iterations with early exaggeration: 67.159210\n",
      "[t-SNE] KL divergence after 1050 iterations: 0.680726\n"
     ]
    },
    {
     "data": {
      "text/plain": [
       "True"
      ]
     },
     "execution_count": 5,
     "metadata": {},
     "output_type": "execute_result"
    }
   ],
   "source": [
    "outlier_detection.outlierDetection(input_path,output_path)"
   ]
  },
  {
   "cell_type": "markdown",
   "id": "9fd04bb1",
   "metadata": {},
   "source": [
    "# Edge Case Selection"
   ]
  },
  {
   "cell_type": "code",
   "execution_count": null,
   "id": "e247073f",
   "metadata": {},
   "outputs": [],
   "source": [
    "edge_case_selection.edgeCaseSelection(input_path,output_path, non_outlier_data_percent , outlier_data_percent)"
   ]
  },
  {
   "cell_type": "markdown",
   "id": "9cffe046",
   "metadata": {},
   "source": [
    "# Data Augmentation"
   ]
  },
  {
   "cell_type": "code",
   "execution_count": null,
   "id": "81b4a98a",
   "metadata": {},
   "outputs": [],
   "source": [
    "# noise, crop, vflip, rotate, saturation, brightness, scale\n",
    "data_augmentation.imageAugmentation(input_path,output_path, augmentation_data_percent, augmentation_technique)"
   ]
  }
 ],
 "metadata": {
  "kernelspec": {
   "display_name": "Python 3 (ipykernel)",
   "language": "python",
   "name": "python3"
  },
  "language_info": {
   "codemirror_mode": {
    "name": "ipython",
    "version": 3
   },
   "file_extension": ".py",
   "mimetype": "text/x-python",
   "name": "python",
   "nbconvert_exporter": "python",
   "pygments_lexer": "ipython3",
   "version": "3.8.2"
  }
 },
 "nbformat": 4,
 "nbformat_minor": 5
}
