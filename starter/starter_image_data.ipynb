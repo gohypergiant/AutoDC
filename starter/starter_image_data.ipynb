{
 "cells": [
  {
   "cell_type": "markdown",
   "id": "f2d4fc3b-2d7f-4e50-9367-c034bec03776",
   "metadata": {},
   "source": [
    "# AutoDC Starter Notebook Example"
   ]
  },
  {
   "cell_type": "code",
   "execution_count": null,
   "id": "f4b73e5f",
   "metadata": {},
   "outputs": [],
   "source": [
    "import autodc.outlier_detection as od\n",
    "import autodc.edge_case_selection as ecs\n",
    "import autodc.data_augmentation as da"
   ]
  },
  {
   "cell_type": "markdown",
   "id": "dd833c38",
   "metadata": {},
   "source": [
    "## Input"
   ]
  },
  {
   "cell_type": "code",
   "execution_count": 4,
   "id": "c9a3eff2",
   "metadata": {},
   "outputs": [],
   "source": [
    "# Specify required inputs\n",
    "input_path = \"/Users/zacliu/Documents/HG/AutoDC/sample_data/dog_vs_cat/\"\n",
    "output_path = \"/Users/zacliu/Documents/HG/AutoDC/sample_data/dog_vs_cat/\"\n",
    "outlier_data_ratio = 10\n",
    "non_outlier_data_ratio = 40\n",
    "augmented_data_ratio = 20"
   ]
  },
  {
   "cell_type": "markdown",
   "id": "fdd83f39",
   "metadata": {},
   "source": [
    "## Outlier Detection"
   ]
  },
  {
   "cell_type": "code",
   "execution_count": null,
   "id": "a4f4069c",
   "metadata": {},
   "outputs": [],
   "source": [
    "od_process = od.OutlierDetection\n",
    "od_process.image_data(input_path, output_path)"
   ]
  },
  {
   "cell_type": "markdown",
   "id": "9fd04bb1",
   "metadata": {},
   "source": [
    "## Edge Case Selection"
   ]
  },
  {
   "cell_type": "code",
   "execution_count": null,
   "id": "e247073f",
   "metadata": {},
   "outputs": [],
   "source": [
    "ecs_process = ecs.EdgeCaseSelection\n",
    "ecs_process.image_data(input_path, output_path, non_outlier_data_ratio, outlier_data_ratio)"
   ]
  },
  {
   "cell_type": "markdown",
   "id": "9cffe046",
   "metadata": {},
   "source": [
    "## Data Augmentation (images)\n",
    "\n",
    "Available augmentation techniques: {noise, crop, vflip, rotate, saturation, brightness, scale}"
   ]
  },
  {
   "cell_type": "code",
   "execution_count": null,
   "id": "81b4a98a",
   "metadata": {},
   "outputs": [],
   "source": [
    "da_process = da.DataAugmentation\n",
    "da_process.image_data(input_path, output_path, augmented_data_ratio, aug_technique= \"noise\")"
   ]
  }
 ],
 "metadata": {
  "kernelspec": {
   "display_name": "Python 3",
   "language": "python",
   "name": "python3"
  },
  "language_info": {
   "codemirror_mode": {
    "name": "ipython",
    "version": 3
   },
   "file_extension": ".py",
   "mimetype": "text/x-python",
   "name": "python",
   "nbconvert_exporter": "python",
   "pygments_lexer": "ipython3",
   "version": "3.7.6"
  }
 },
 "nbformat": 4,
 "nbformat_minor": 5
}
